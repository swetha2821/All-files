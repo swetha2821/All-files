{
 "cells": [
  {
   "cell_type": "code",
   "execution_count": 4,
   "id": "a7e72817",
   "metadata": {},
   "outputs": [],
   "source": [
    "import pandas "
   ]
  },
  {
   "cell_type": "code",
   "execution_count": 5,
   "id": "a09985b4",
   "metadata": {},
   "outputs": [],
   "source": [
    "import pandas"
   ]
  },
  {
   "cell_type": "code",
   "execution_count": 5,
   "id": "361548df",
   "metadata": {},
   "outputs": [],
   "source": [
    "import pandas as pd"
   ]
  },
  {
   "cell_type": "code",
   "execution_count": 6,
   "id": "a881285b",
   "metadata": {
    "scrolled": true
   },
   "outputs": [
    {
     "data": {
      "text/plain": [
       "'1.5.2'"
      ]
     },
     "execution_count": 6,
     "metadata": {},
     "output_type": "execute_result"
    }
   ],
   "source": [
    "pd.__version__"
   ]
  },
  {
   "cell_type": "code",
   "execution_count": 7,
   "id": "80366667",
   "metadata": {},
   "outputs": [],
   "source": [
    "VAC_ATTENDENCE=pd.Series([125,156,196],index=[1,2,3])\n",
    "\n"
   ]
  },
  {
   "cell_type": "markdown",
   "id": "76e670f2",
   "metadata": {},
   "source": [
    "VAC_ATTENDENCE=pd.Series([125,156,196],index=[1,2,3])"
   ]
  },
  {
   "cell_type": "code",
   "execution_count": 8,
   "id": "3dcca9cc",
   "metadata": {
    "scrolled": true
   },
   "outputs": [
    {
     "name": "stdout",
     "output_type": "stream",
     "text": [
      "1    125\n",
      "2    156\n",
      "3    196\n",
      "dtype: int64\n"
     ]
    }
   ],
   "source": [
    "print(VAC_ATTENDENCE)"
   ]
  },
  {
   "cell_type": "code",
   "execution_count": null,
   "id": "0e38c1c8",
   "metadata": {},
   "outputs": [],
   "source": []
  }
 ],
 "metadata": {
  "kernelspec": {
   "display_name": "Python 3 (ipykernel)",
   "language": "python",
   "name": "python3"
  },
  "language_info": {
   "codemirror_mode": {
    "name": "ipython",
    "version": 3
   },
   "file_extension": ".py",
   "mimetype": "text/x-python",
   "name": "python",
   "nbconvert_exporter": "python",
   "pygments_lexer": "ipython3",
   "version": "3.10.8"
  }
 },
 "nbformat": 4,
 "nbformat_minor": 5
}
