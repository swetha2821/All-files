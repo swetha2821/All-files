{
 "cells": [
  {
   "cell_type": "code",
   "execution_count": 4,
   "id": "17ca75e8",
   "metadata": {},
   "outputs": [],
   "source": [
    "import pandas "
   ]
  },
  {
   "cell_type": "code",
   "execution_count": 5,
   "id": "b34b7ad4",
   "metadata": {},
   "outputs": [],
   "source": [
    "import pandas"
   ]
  },
  {
   "cell_type": "code",
   "execution_count": 18,
   "id": "fa240491",
   "metadata": {},
   "outputs": [],
   "source": [
    "import pandas as pd"
   ]
  },
  {
   "cell_type": "code",
   "execution_count": 10,
   "id": "7c1f89cb",
   "metadata": {
    "scrolled": true
   },
   "outputs": [
    {
     "data": {
      "text/plain": [
       "'1.5.2'"
      ]
     },
     "execution_count": 10,
     "metadata": {},
     "output_type": "execute_result"
    }
   ],
   "source": [
    "pd.__version__"
   ]
  },
  {
   "cell_type": "code",
   "execution_count": 11,
   "id": "b3064ad7",
   "metadata": {},
   "outputs": [],
   "source": [
    "VAC_ATTENDENCE=pd.Series([125,156,196],index=[1,2,3])\n",
    "\n"
   ]
  },
  {
   "cell_type": "markdown",
   "id": "db01c462",
   "metadata": {},
   "source": [
    "VAC_ATTENDENCE=pd.Series([125,156,196],index=[1,2,3])"
   ]
  },
  {
   "cell_type": "code",
   "execution_count": 12,
   "id": "376022cb",
   "metadata": {
    "scrolled": true
   },
   "outputs": [
    {
     "name": "stdout",
     "output_type": "stream",
     "text": [
      "1    125\n",
      "2    156\n",
      "3    196\n",
      "dtype: int64\n"
     ]
    }
   ],
   "source": [
    "print(VAC_ATTENDENCE)"
   ]
  },
  {
   "cell_type": "code",
   "execution_count": 19,
   "id": "01b35ea2",
   "metadata": {},
   "outputs": [],
   "source": [
    "season={\"rainy\":{1:'nov',2:'dec',3:'jan',4:'feb'},\"dry\":{1:'mar',2:'feb',4:'apr',3:'aug',4:'nov'}}"
   ]
  },
  {
   "cell_type": "code",
   "execution_count": 20,
   "id": "271e090d",
   "metadata": {},
   "outputs": [],
   "source": [
    "d=pd.DataFrame(season,columns=[\"rainy\",\"dry\"])"
   ]
  },
  {
   "cell_type": "code",
   "execution_count": 21,
   "id": "70b9384d",
   "metadata": {},
   "outputs": [
    {
     "data": {
      "text/html": [
       "<div>\n",
       "<style scoped>\n",
       "    .dataframe tbody tr th:only-of-type {\n",
       "        vertical-align: middle;\n",
       "    }\n",
       "\n",
       "    .dataframe tbody tr th {\n",
       "        vertical-align: top;\n",
       "    }\n",
       "\n",
       "    .dataframe thead th {\n",
       "        text-align: right;\n",
       "    }\n",
       "</style>\n",
       "<table border=\"1\" class=\"dataframe\">\n",
       "  <thead>\n",
       "    <tr style=\"text-align: right;\">\n",
       "      <th></th>\n",
       "      <th>rainy</th>\n",
       "      <th>dry</th>\n",
       "    </tr>\n",
       "  </thead>\n",
       "  <tbody>\n",
       "    <tr>\n",
       "      <th>1</th>\n",
       "      <td>nov</td>\n",
       "      <td>mar</td>\n",
       "    </tr>\n",
       "    <tr>\n",
       "      <th>2</th>\n",
       "      <td>dec</td>\n",
       "      <td>feb</td>\n",
       "    </tr>\n",
       "    <tr>\n",
       "      <th>3</th>\n",
       "      <td>jan</td>\n",
       "      <td>aug</td>\n",
       "    </tr>\n",
       "    <tr>\n",
       "      <th>4</th>\n",
       "      <td>feb</td>\n",
       "      <td>nov</td>\n",
       "    </tr>\n",
       "  </tbody>\n",
       "</table>\n",
       "</div>"
      ],
      "text/plain": [
       "  rainy  dry\n",
       "1   nov  mar\n",
       "2   dec  feb\n",
       "3   jan  aug\n",
       "4   feb  nov"
      ]
     },
     "execution_count": 21,
     "metadata": {},
     "output_type": "execute_result"
    }
   ],
   "source": [
    "d"
   ]
  },
  {
   "cell_type": "code",
   "execution_count": 22,
   "id": "4e610a45",
   "metadata": {},
   "outputs": [],
   "source": [
    "import numpy as np"
   ]
  },
  {
   "cell_type": "code",
   "execution_count": 26,
   "id": "0bd31d06",
   "metadata": {
    "scrolled": false
   },
   "outputs": [],
   "source": [
    "a=pd.DataFrame(np.random.randint(0,300,size=(12,6)),columns=list(('abcdef')))"
   ]
  },
  {
   "cell_type": "code",
   "execution_count": 28,
   "id": "20d91117",
   "metadata": {},
   "outputs": [
    {
     "name": "stdout",
     "output_type": "stream",
     "text": [
      "      a    b    c    d    e    f\n",
      "0   137   38   58  121  256   12\n",
      "1    95  102  162   14  226  283\n",
      "2   218  142   46   67  218   25\n",
      "3    76  250   19  172   14   69\n",
      "4   214  228   29    9   96   80\n",
      "5   190   35  122   43  179  287\n",
      "6    38   82  170  275  117  258\n",
      "7   253  274  144   23   24  266\n",
      "8   242  156  127  143  112  261\n",
      "9   194   75   23   54   86  220\n",
      "10  112  292   96  229  143    7\n",
      "11  277   71  199  178  173   66\n"
     ]
    }
   ],
   "source": [
    "print(a)"
   ]
  },
  {
   "cell_type": "code",
   "execution_count": 30,
   "id": "d60a7de6",
   "metadata": {},
   "outputs": [],
   "source": [
    "a.to_csv(\"d:\\sweety.csv\")"
   ]
  },
  {
   "cell_type": "code",
   "execution_count": null,
   "id": "4ea756f2",
   "metadata": {},
   "outputs": [],
   "source": []
  }
 ],
 "metadata": {
  "kernelspec": {
   "display_name": "Python 3 (ipykernel)",
   "language": "python",
   "name": "python3"
  },
  "language_info": {
   "codemirror_mode": {
    "name": "ipython",
    "version": 3
   },
   "file_extension": ".py",
   "mimetype": "text/x-python",
   "name": "python",
   "nbconvert_exporter": "python",
   "pygments_lexer": "ipython3",
   "version": "3.10.8"
  }
 },
 "nbformat": 4,
 "nbformat_minor": 5
}
