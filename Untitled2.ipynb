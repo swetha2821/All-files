{
 "cells": [
  {
   "cell_type": "code",
   "execution_count": 11,
   "id": "78a9e8d8",
   "metadata": {},
   "outputs": [],
   "source": [
    "var2={1:\"college\",2:\"McA\",3:\"periyar\"}"
   ]
  },
  {
   "cell_type": "code",
   "execution_count": 12,
   "id": "fe6e6fcb",
   "metadata": {},
   "outputs": [
    {
     "data": {
      "text/plain": [
       "dict"
      ]
     },
     "execution_count": 12,
     "metadata": {},
     "output_type": "execute_result"
    }
   ],
   "source": [
    "type(var2)"
   ]
  },
  {
   "cell_type": "code",
   "execution_count": 13,
   "id": "14ce6feb",
   "metadata": {},
   "outputs": [
    {
     "data": {
      "text/plain": [
       "'college'"
      ]
     },
     "execution_count": 13,
     "metadata": {},
     "output_type": "execute_result"
    }
   ],
   "source": [
    "var2[1]"
   ]
  },
  {
   "cell_type": "code",
   "execution_count": 14,
   "id": "2dc24537",
   "metadata": {},
   "outputs": [
    {
     "data": {
      "text/plain": [
       "'McA'"
      ]
     },
     "execution_count": 14,
     "metadata": {},
     "output_type": "execute_result"
    }
   ],
   "source": [
    "var2[2]"
   ]
  },
  {
   "cell_type": "code",
   "execution_count": 15,
   "id": "08486f7c",
   "metadata": {},
   "outputs": [
    {
     "data": {
      "text/plain": [
       "'periyar'"
      ]
     },
     "execution_count": 15,
     "metadata": {},
     "output_type": "execute_result"
    }
   ],
   "source": [
    "var2[3]"
   ]
  },
  {
   "cell_type": "code",
   "execution_count": null,
   "id": "efb2ba6a",
   "metadata": {},
   "outputs": [],
   "source": []
  }
 ],
 "metadata": {
  "kernelspec": {
   "display_name": "Python 3 (ipykernel)",
   "language": "python",
   "name": "python3"
  },
  "language_info": {
   "codemirror_mode": {
    "name": "ipython",
    "version": 3
   },
   "file_extension": ".py",
   "mimetype": "text/x-python",
   "name": "python",
   "nbconvert_exporter": "python",
   "pygments_lexer": "ipython3",
   "version": "3.10.8"
  }
 },
 "nbformat": 4,
 "nbformat_minor": 5
}
